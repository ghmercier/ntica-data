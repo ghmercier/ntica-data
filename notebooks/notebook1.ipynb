{
  "cells": [
    {
      "cell_type": "markdown",
      "metadata": {},
      "source": [
        "# Traitement de fichiers CSV\n",
        "\n",
        "Dans ce TD, nous allons apprendre à manipuler un type de fichier texte\n",
        "très utilisé pour stocker et diffuser des données : le CSV.\n",
        "\n",
        "CSV est l’abréviation de *comma-separated values*, soit “valeurs\n",
        "séparées par des virgules” – même si, bien souvent, le délimiteur\n",
        "standard (la virgule) est remplacée par un autre délimiteur.\n",
        "\n",
        "Un fichier CSV reproduit la structure d’un tableau :\n",
        "\n",
        "-   Chaque ligne du fichier représente une ligne du tableau.\n",
        "-   Dans chaque ligne figurent les valeurs stockées dans les colonnes,\n",
        "    séparées par le délimiteur.\n",
        "\n",
        "Un module de la bibliothèque standard de Python est spécialement conçu\n",
        "pour faciliter l’interaction avec ce type de fichiers : le module `csv`.\n",
        "\n",
        "En pratique, on utilise souvent des modules de plus haut niveau (comme\n",
        "`pandas`) pour travailler avec des tableaux (*DataFrames*).\n",
        "\n",
        "Nous allons néanmoins nous entraîner à l’utiliser en explorant deux\n",
        "fichiers de l’INSEE :\n",
        "\n",
        "-   *insee_data.csv*, généré avec l’outil [Statistiques\n",
        "    locales](https://statistiques-locales.insee.fr/)\n",
        "-   *v_departement_2025.csv*, l’un des fichiers du [COG\n",
        "    2025](https://www.insee.fr/fr/information/8377162)\n",
        "\n",
        "## Préambule\n",
        "\n",
        "Ce notebook est conçu pour être interactif. Dans les cellules prévues à\n",
        "cet effet, vous pouvez écrire du code en Python et l’exécuter en\n",
        "pressant <kbd>SHIFT</kbd>+<kbd>ENTER</kbd>.\n",
        "\n",
        "Les variables restent en mémoire d’une cellule à l’autre. Essayez\n",
        "ci-dessous !"
      ],
      "id": "fd64f95e-811c-40c8-8ae8-930ed49b815c"
    },
    {
      "cell_type": "code",
      "execution_count": 1,
      "metadata": {},
      "outputs": [],
      "source": [
        "# C'est à vous !"
      ],
      "id": "ebc33553"
    },
    {
      "cell_type": "markdown",
      "metadata": {},
      "source": [
        "## Première exploration des données\n",
        "\n",
        "Avant tout, téléchargez les fichiers source sur votre ordinateur et\n",
        "ouvrez-les avec un éditeur de texte brut (comme Notepad++) pour en\n",
        "examiner la structure.\n",
        "\n",
        "### Exploration de insee_data.csv\n",
        "\n",
        "On note que :\n",
        "\n",
        "-   Le fichier est encodé en UTF-8.\n",
        "-   les valeurs sont séparées par des **points-virgules** (`;`).\n",
        "-   La 1<sup>ère</sup> ligne du fichier contient le nom des colonnes :\n",
        "    c’est l’entête, ou `header`.\n",
        "-   Les 34 785 autres lignes contiennent les données, une ligne par\n",
        "    commune.\n",
        "\n",
        "On relève qu’il y a quatre colonnes :\n",
        "\n",
        "-   `Code` : le numéro INSEE de la commune.\n",
        "-   `Libellé` : le nom de la commune.\n",
        "-   `Population municipale 2022` : la population de référence de la\n",
        "    commune, millésime 2022, entrée en vigueur le 1<sup>er</sup> janvier\n",
        "    2025, donnée issue du recensement de la population.\n",
        "-   `Boulangerie-pâtisserie (en nombre) 2024` : le nombre de\n",
        "    boulangeries-pâtisseries que comptait la commune en 2024, donnée\n",
        "    issue de la Base Permanente des Équipements (BPE).\n",
        "\n",
        "### Exploration de v_departement_2025.csv\n",
        "\n",
        "On note que :\n",
        "\n",
        "-   Le fichier est encodé en UTF-8.\n",
        "-   les valeurs sont séparées par des **virgules** (`,`).\n",
        "-   Le fichier comporte un `header`.\n",
        "-   Les 101 autres lignes contiennent les données, une ligne par\n",
        "    département.\n",
        "\n",
        "On relève qu’il y a sept colonnes :\n",
        "\n",
        "-   `REGION` : code région.\n",
        "-   `DEP` : code département.\n",
        "-   `CHEFLIEU` : code de la commune chef-lieu.\n",
        "-   `TNCC` : Type de nom en clair (donne une indication grammaticale).\n",
        "-   `NCC` : Nom en clair, en majuscules.\n",
        "-   `NCCENR` : Nom en clair, en minuscules accentuées.\n",
        "-   `LIBELLE` : Nom en clair, en minuscules accentuées avec article.\n",
        "\n",
        "## Chargement des données\n",
        "\n",
        "### Principe\n",
        "\n",
        "On peut modéliser les données avec Python de plusieurs manières.\n",
        "\n",
        "#### Liste de listes\n",
        "\n",
        "On peut construire une *liste de listes* : la grande liste représente le\n",
        "tableau, elle contient plusieurs listes (autant que de lignes) dont\n",
        "chacun des élements représentent les valeurs des colonnes."
      ],
      "id": "09c276bf-a56f-49f3-a53f-0966e51457a6"
    },
    {
      "cell_type": "code",
      "execution_count": 2,
      "metadata": {},
      "outputs": [],
      "source": [
        "# On importe le module CSV\n",
        "import csv\n",
        "\n",
        "# On crée la première liste\n",
        "rows = []\n",
        "\n",
        "# On ouvre le fichier en mode lecture ('r') en spécifiant l'encodage ('utf-8'),\n",
        "with open('data/insee_data.csv', 'r', encoding='utf-8') as mf:\n",
        "\n",
        "    # On crée un objet reader() qui lit une ligne du fichier qui lui est passé,\n",
        "    # détecte les délimiteurs et renvoie la liste des champs qu'ils séparent \n",
        "    csv_reader = csv.reader(mf, delimiter=';')\n",
        "\n",
        "    # Cet objet est conçu comme un itérateur : à chaque fois qu'on l'appelle,\n",
        "    # il passe à la ligne suivante, jusqu'à la fin du fichier. \n",
        "    # On stocke ainsi toutes les listes renvoyées dans la première liste.\n",
        "    for row in csv_reader:\n",
        "        rows.append(row)\n",
        "\n",
        "# On affiche la valeur stockée 13e ligne, 2eme colonne\n",
        "# (pour mémoire, Python compte à partir de 0) :\n",
        "print('La valeur à la 13e ligne, 2eme colonne est la suivante : ', end=None)\n",
        "print(rows[12][1])"
      ],
      "id": "50052d67"
    },
    {
      "cell_type": "markdown",
      "metadata": {},
      "source": [
        "#### Liste de dictionnaires\n",
        "\n",
        "Mais puisque notre fichier comporte un entête, il est intéressant de\n",
        "modéliser les données sous la forme d’une *liste de dictionnaires* :\n",
        "chaque ligne sera représentée par un dictionnaire qui fait correspondre\n",
        "aux noms des colonnes (ex: `Code`) leurs valeurs (ex: `'01001'`).\n",
        "\n",
        "Pour montrer l’intérêt, on ne conservera ici que les communes dont le\n",
        "champ `Code` commence par `'77'` (c’est-à-dire les communes de\n",
        "Seine-et-Marne)."
      ],
      "id": "ae3cbb9f-14d5-48c4-8502-a1e3231879fb"
    },
    {
      "cell_type": "code",
      "execution_count": 3,
      "metadata": {},
      "outputs": [],
      "source": [
        "# On crée une autre liste\n",
        "seinemarne = []\n",
        "\n",
        "with open('data/insee_data.csv', 'r', encoding='utf-8') as mf:\n",
        "   \n",
        "    # On utilise ici un objet DictReader()\n",
        "    csv_reader = csv.DictReader(mf, delimiter=';')\n",
        "    \n",
        "    # Les objets renvoyés à chaque appel sont donc des dictionnaires\n",
        "    for dico in csv_reader:\n",
        "        \n",
        "        # On utilise la méthode `startswith` dont disposent les objets de type \n",
        "        # natif `str` pour filtrer les éléments qui nous intéressent\n",
        "        if dico['Code'].startswith('77'):\n",
        "            seinemarne.append(dico)\n",
        "\n",
        "# On affiche le libellé du dernier élément de la liste ainsi constituée\n",
        "libelle = seinemarne[-1]['Libellé']\n",
        "print(\"La dernière ville de la liste est : {}\".format(libelle))"
      ],
      "id": "a119bf2c"
    },
    {
      "cell_type": "markdown",
      "metadata": {},
      "source": [
        "### À vous de jouer !\n",
        "\n",
        "#### Chargement de insee_data.csv\n",
        "\n",
        "Chargez les données du fichier `insee_data.csv`dans une liste de\n",
        "dictionnaires que vous nommerez `communes`.\n",
        "\n",
        "Affichez le nom et la population de la 10 000<sup>e</sup> ville de la\n",
        "liste."
      ],
      "id": "6af2ee51-9e07-4b9f-86cc-cf6d1833426e"
    },
    {
      "cell_type": "code",
      "execution_count": 4,
      "metadata": {},
      "outputs": [],
      "source": [
        "# Entrez ici votre code"
      ],
      "id": "5da61cb7"
    },
    {
      "cell_type": "code",
      "execution_count": 5,
      "metadata": {},
      "outputs": [],
      "source": [
        "communes = []\n",
        "\n",
        "with open('data/insee_data.csv', 'r', encoding='utf-8') as mf:\n",
        "    csv_reader = csv.DictReader(mf, delimiter=';')\n",
        "    for row in csv_reader:\n",
        "        communes.append(row)\n",
        "\n",
        "\n",
        "print(\"La 10000e ville de la liste est : {}, {} habitants.\".format(\n",
        "    communes[9999]['Libellé'],\n",
        "    communes[9999]['Population municipale 2022']\n",
        "    )\n",
        ")"
      ],
      "id": "3309a342"
    },
    {
      "cell_type": "markdown",
      "metadata": {},
      "source": [
        "#### Chargement de v_departement_2025.csv\n",
        "\n",
        "Chargez les données du fichier `v_departement_2025.csv` dans une liste\n",
        "de dictionnaires que vous nommerez `depts`.\n",
        "\n",
        "Affichez le nom en majuscule du 17<sup>e</sup> département de la liste."
      ],
      "id": "3bd94fbb-4ef8-402b-ae67-405a9bd2f745"
    },
    {
      "cell_type": "code",
      "execution_count": 6,
      "metadata": {},
      "outputs": [],
      "source": [
        "# Entrez ici votre code"
      ],
      "id": "5473223d"
    },
    {
      "cell_type": "code",
      "execution_count": 7,
      "metadata": {},
      "outputs": [],
      "source": [
        "depts = []\n",
        "\n",
        "with open('data/v_departement_2025.csv', 'r', encoding='utf-8') as mf:\n",
        "    csv_reader = csv.DictReader(mf, delimiter=',')\n",
        "    for row in csv_reader:\n",
        "        depts.append(row)\n",
        "\n",
        "print(\"Le 17eme département de la liste est : {}.\".format(depts[16]['NCC']))"
      ],
      "id": "982556e9"
    },
    {
      "cell_type": "markdown",
      "metadata": {},
      "source": [
        "## Vérification et nettoyage des données\n",
        "\n",
        "Il est utile de vérifier que les données ne présentent pas de\n",
        "“bizarreries” (éléments aberrants, valeurs manquantes, etc.).\n",
        "\n",
        "Nous allons conduire quelques tests de cohérence.\n",
        "\n",
        "### Nombre de champs pour chaque enregistrement\n",
        "\n",
        "On va s’assurer que chaque enregistrement des listes `communes` et\n",
        "`depts` comporte le bon nombre de champs : 4 pour les communes, 7 pour\n",
        "les départements.\n",
        "\n",
        "Écrivez un programme qui vérifie pour les deux listes que chaque\n",
        "dictionnaire contient le nombre approprié de clés. On stockera dans des\n",
        "listes à part les problèmes éventuels (si tout va bien, ces listes\n",
        "seront vides)."
      ],
      "id": "179037c0-d5b2-4dd5-a6f1-7fd2276a7d0d"
    },
    {
      "cell_type": "code",
      "execution_count": 8,
      "metadata": {},
      "outputs": [],
      "source": [
        "# Entrez ici votre code"
      ],
      "id": "1b7552b6"
    },
    {
      "cell_type": "code",
      "execution_count": 9,
      "metadata": {},
      "outputs": [],
      "source": [
        "# Pour les communes tout d'abord\n",
        "# On le fait de façon naïve, avec une boucle traditionnelle\n",
        "communes_avec_pb = []\n",
        "for com in communes:\n",
        "    if len(com) != 4:\n",
        "        communes_avec_pb.append(com)\n",
        "\n",
        "print(\"{} enregistrements problématiques dans la liste 'communes'\".format(\n",
        "    len(communes_avec_pb)\n",
        "    )\n",
        ")\n",
        "\n",
        "# Pour les départements ensuite\n",
        "# On le fait e façon pythonique, avec une compréhension de liste\n",
        "dept_avec_pb = [dep for dep in depts if len(dep) != 7]\n",
        "\n",
        "print(\"{} enregistrements problématiques dans la liste 'dept'\".format(\n",
        "    len(dept_avec_pb)\n",
        "    )\n",
        ")"
      ],
      "id": "ae4b5077"
    },
    {
      "cell_type": "markdown",
      "metadata": {},
      "source": [
        "### Cohérence géographique\n",
        "\n",
        "Dans la liste `depts`, on va vérifier que la commune désignée comme\n",
        "chef-lieu d’un département appartient bien à ce département.\n",
        "\n",
        "On se souviendra que le code INSEE d’une commune commence par le numéro\n",
        "du département auquel elle appartient, codé sur 2 caractères (3 pour\n",
        "l’outre-mer)."
      ],
      "id": "a3e01ebb-e7fd-4fe5-956b-d5eeec47bcdc"
    },
    {
      "cell_type": "code",
      "execution_count": 10,
      "metadata": {},
      "outputs": [],
      "source": [
        "# Entrez ici votre code"
      ],
      "id": "881cf2a7"
    },
    {
      "cell_type": "code",
      "execution_count": 11,
      "metadata": {},
      "outputs": [],
      "source": [
        "# Voici la façon naïve, avec une boucle traditionnelle\n",
        "pb_chef_lieu = []\n",
        "for dep in depts:\n",
        "    codeinsee = dep['CHEFLIEU']\n",
        "    if codeinsee[:2] != dep['DEP'] and codeinsee[:3] != dep['DEP']:\n",
        "        pb_chef_lieu.append(dep)\n",
        "\n",
        "pb_chef_lieu\n",
        "\n",
        "# Et la même chose de façon pythonique, avec une compréhension de liste\n",
        "pb_chef_lieu = [ \n",
        "    dep for depts in depts \n",
        "    if  dep['CHEFLIEU'][:2] != dep['DEP']\n",
        "    and dep['CHEFLIEU'][:3] != dep['DEP']\n",
        "]\n",
        "\n",
        "print(\"{} communes situées hors du département.\".format(len(pb_chef_lieu)))"
      ],
      "id": "31ecee7c"
    },
    {
      "cell_type": "markdown",
      "metadata": {},
      "source": [
        "### Valeurs manquantes\n",
        "\n",
        "Bien souvent, les données manquantes dans une série de données sont\n",
        "signalées par une chaîne de caractère spécifique (comme `N/A`) et non\n",
        "par l’absence de valeurs. Cela peut-être gênant.\n",
        "\n",
        "Dans la table `communes`, on va ainsi filtrer les enregistrements qui\n",
        "contiennent des valeurs non numériques dans les champs de données.\n",
        "\n",
        "On utilisera pour cela la méthode `is_decimal` dont disposent les objets\n",
        "de type natif `str` (cf\n",
        "[documentation](https://docs.python.org/fr/3.12/library/stdtypes.html#string-methods)).\n",
        "Cette méthode renvoie `True` si tous les caractères d’une chaîne sont\n",
        "des caractères décimaux et qu’elle contient au moins un caractère,\n",
        "`False` sinon."
      ],
      "id": "04e0bc92-1855-4c1b-8214-c1af1ee81eeb"
    },
    {
      "cell_type": "code",
      "execution_count": 12,
      "metadata": {},
      "outputs": [],
      "source": [
        "# Entrez ici votre code"
      ],
      "id": "34c7e825"
    },
    {
      "cell_type": "code",
      "execution_count": 13,
      "metadata": {},
      "outputs": [],
      "source": [
        "# Voici la façon naïve, avec une boucle traditionnelle\n",
        "pb_nombre = []\n",
        "for com in communes:\n",
        "    if not com['Population municipale 2022'].isdecimal():\n",
        "        pb_nombre.append(com)\n",
        "        next\n",
        "    elif not com['Boulangerie-pâtisserie (en nombre) 2024'].isdecimal():\n",
        "        pb_nombre.append(com)\n",
        "\n",
        "\n",
        "# Et la même chose de façon pythonique, avec une compréhension de liste\n",
        "pb_nombre = [\n",
        "    com for com in communes\n",
        "    if not com['Population municipale 2022'].isdecimal()\n",
        "    or not com['Boulangerie-pâtisserie (en nombre) 2024'].isdecimal()\n",
        "]\n",
        "\n",
        "print(\"{} communes avec données manquantes.\".format(len(pb_nombre)))"
      ],
      "id": "4a086972"
    },
    {
      "cell_type": "markdown",
      "metadata": {},
      "source": [
        "Ainsi donc, des données sont manquantes pour une vingtaine de communes…\n",
        "On les éliminera de la liste `communes`."
      ],
      "id": "779c5c32-8439-4090-bd91-1e71781fbd29"
    },
    {
      "cell_type": "code",
      "execution_count": 14,
      "metadata": {},
      "outputs": [],
      "source": [
        "# Entrez ici votre code"
      ],
      "id": "6b87424a"
    },
    {
      "cell_type": "code",
      "execution_count": 15,
      "metadata": {},
      "outputs": [],
      "source": [
        "print(\"Nombre d'enregistrements avant nettoyage : {}\".format(len(communes)))\n",
        "\n",
        "for ville in pb_nombre:\n",
        "    communes.remove(ville)\n",
        "\n",
        "print(\"Nombre d'enregistrements après nettoyage : {}\".format(len(communes)))"
      ],
      "id": "0fbe07dd"
    },
    {
      "cell_type": "markdown",
      "metadata": {},
      "source": [
        "### Gestion des types\n",
        "\n",
        "Dans la liste `communes`, les valeurs stockées dans les champs de\n",
        "données sont pour l’instant représentées par des chaînes de caractères."
      ],
      "id": "29716d97-0bdb-4e00-b28a-b41dd6c06547"
    },
    {
      "cell_type": "code",
      "execution_count": 16,
      "metadata": {},
      "outputs": [],
      "source": [
        "print(type(communes[0]['Population municipale 2022']))"
      ],
      "id": "451c3729"
    },
    {
      "cell_type": "markdown",
      "metadata": {},
      "source": [
        "Pour les utiliser dans des calculs, il faut d’abord les convertir en\n",
        "nombres entiers. Allez-y !"
      ],
      "id": "a666189c-e062-4678-af16-dd58d9799bba"
    },
    {
      "cell_type": "code",
      "execution_count": 17,
      "metadata": {},
      "outputs": [],
      "source": [
        "# Entrez ici votre code"
      ],
      "id": "9bf40128"
    },
    {
      "cell_type": "code",
      "execution_count": 18,
      "metadata": {},
      "outputs": [],
      "source": [
        "for c in communes:\n",
        "    for champ in ['Population municipale 2022', 'Boulangerie-pâtisserie (en nombre) 2024']:\n",
        "        c[champ] = int(c[champ])\n",
        "\n",
        "print(type(communes[0]['Population municipale 2022']))"
      ],
      "id": "cbf21611"
    },
    {
      "cell_type": "markdown",
      "metadata": {},
      "source": [
        "## Requêtes sur les données\n",
        "\n",
        "Utilisez les deux tables `communes` et `depts` construites précédemment\n",
        "pour répondre aux questions suivantes.\n",
        "\n",
        "### Boulangeries de(s) Champs\n",
        "\n",
        "Combien y a-t-il de boulangeries à Champs-sur-Marne (77083) ?"
      ],
      "id": "96ce7d46-0faf-45bf-a562-7c3caf3e2fc9"
    },
    {
      "cell_type": "code",
      "execution_count": 19,
      "metadata": {},
      "outputs": [],
      "source": [
        "# Entrez ici votre code"
      ],
      "id": "1cdefd47"
    },
    {
      "cell_type": "code",
      "execution_count": 20,
      "metadata": {},
      "outputs": [],
      "source": [
        "for c in communes:\n",
        "    if c['Code'] == '77083':\n",
        "        print(\"{} : {} boulangeries\".format(\n",
        "            c['Libellé'],\n",
        "            c['Boulangerie-pâtisserie (en nombre) 2024']\n",
        "            )\n",
        "        )"
      ],
      "id": "13c5b985"
    },
    {
      "cell_type": "markdown",
      "metadata": {},
      "source": [
        "### Villes-fantômes\n",
        "\n",
        "Quelles sont les villes ne comportant aucun habitant ? Pourquoi ?"
      ],
      "id": "1a12663c-4c66-432e-b481-11fa7ea5a351"
    },
    {
      "cell_type": "code",
      "execution_count": 21,
      "metadata": {},
      "outputs": [],
      "source": [
        "# Entrez ici votre code"
      ],
      "id": "00323589"
    },
    {
      "cell_type": "code",
      "execution_count": 22,
      "metadata": {},
      "outputs": [],
      "source": [
        "villes_mortes = [ \n",
        "    v for v in communes \n",
        "    if v['Population municipale 2022'] == 0\n",
        "]\n",
        "\n",
        "print(\"Villes sans habitants :\")\n",
        "\n",
        "# Ce sont toutes des communes de la Meuse, non loin de Verdun : \n",
        "# souvenir de la Grande Guerre...\n",
        "\n",
        "for v in villes_mortes: \n",
        "    print(\"- {} ({})\".format(v['Libellé'], v['Code']))"
      ],
      "id": "1f064885"
    },
    {
      "cell_type": "markdown",
      "metadata": {},
      "source": [
        "### Habitants de caractères\n",
        "\n",
        "Quelles communes ont autant d’habitants que de caractères dans leur nom\n",
        "?"
      ],
      "id": "a4497d9f-fd05-4861-9b29-4745424163d2"
    },
    {
      "cell_type": "code",
      "execution_count": 23,
      "metadata": {},
      "outputs": [],
      "source": [
        "# Entrez ici votre code"
      ],
      "id": "d6e68f46"
    },
    {
      "cell_type": "code",
      "execution_count": 24,
      "metadata": {},
      "outputs": [],
      "source": [
        "villes_lettres = [ \n",
        "    v for v in communes \n",
        "    if len(v['Libellé']) == v['Population municipale 2022']\n",
        "]\n",
        "\n",
        "print(\"Villes qui ont autant d'habitants que de lettres dans leur nom :\")\n",
        "\n",
        "for v in villes_lettres: \n",
        "    print(\"- {} ({}) : {} habitants, {} caractères\".format(\n",
        "        v['Libellé'], \n",
        "        v['Code'],\n",
        "        v['Population municipale 2022'],\n",
        "        len(v['Libellé'])\n",
        "        )\n",
        "    )"
      ],
      "id": "3bdad28f"
    },
    {
      "cell_type": "markdown",
      "metadata": {},
      "source": [
        "### Du pain, du pain\n",
        "\n",
        "Combien y a-t-il de boulangeries en France ? Quelle est la commune qui a\n",
        "la plus forte densité de boulangeries parmi les villes de plus de 5000\n",
        "habitants ?"
      ],
      "id": "85bc180e-b46e-45f1-aee5-1d6e6b2415ac"
    },
    {
      "cell_type": "code",
      "execution_count": 25,
      "metadata": {},
      "outputs": [],
      "source": [
        "# Entrez ici votre code"
      ],
      "id": "4ec21445"
    },
    {
      "cell_type": "code",
      "execution_count": 26,
      "metadata": {},
      "outputs": [],
      "source": [
        "nb_boul = sum([c['Boulangerie-pâtisserie (en nombre) 2024'] for c in communes])\n",
        "\n",
        "print(\"Boulangeries-pâtisseries en France en 2024 : {}\".format(nb_boul))\n",
        "\n",
        "densite_max = 0\n",
        "laureat = ''\n",
        "\n",
        "for com in communes:\n",
        "    boulang    = com['Boulangerie-pâtisserie (en nombre) 2024']\n",
        "    population = com['Population municipale 2022']\n",
        "    \n",
        "    if population > 5000 and boulang/population*1000 > densite_max:\n",
        "        densite_max = boulang/population*1000\n",
        "        laureat = com['Libellé']\n",
        "\n",
        "print(\"Ville à la plus forte densité : {} ({:.1f} boulangeries/1000 hab)\".format(\n",
        "    laureat, \n",
        "    densite_max\n",
        "    )\n",
        ")"
      ],
      "id": "48c4ea28"
    },
    {
      "cell_type": "markdown",
      "metadata": {},
      "source": [
        "### Essartage\n",
        "\n",
        "Quelles communes contiennent le toponyme\n",
        "[‘essart’](https://fr.wikipedia.org/wiki/Essart) dans leur nom ?"
      ],
      "id": "5993ccbb-b524-4afa-8a40-22ef3e93530e"
    },
    {
      "cell_type": "code",
      "execution_count": 27,
      "metadata": {},
      "outputs": [],
      "source": [
        "# Entrez ici votre code"
      ],
      "id": "a7efb37b"
    },
    {
      "cell_type": "code",
      "execution_count": 28,
      "metadata": {},
      "outputs": [],
      "source": [
        "essarts = []\n",
        "\n",
        "for com in communes:\n",
        "    if 'essart' in com['Libellé'].lower():\n",
        "        essarts.append(com)\n",
        "\n",
        "print(\"Villes avec le toponyme Essart :\")\n",
        "\n",
        "for v in essarts:\n",
        "    print(\"- {name} ({code})\".format(code=v['Code'], name=v['Libellé']))"
      ],
      "id": "d5537295"
    },
    {
      "cell_type": "markdown",
      "metadata": {},
      "source": [
        "### Chef-lieu chétif\n",
        "\n",
        "Dans quels départements le chef-lieu n’est-il pas la commune la plus\n",
        "peuplée ? Quelles sont les communes plus peuplées ?\n",
        "\n",
        "Indice : on commencera par créer un dictionnaire associant à chaque\n",
        "chef-lieu sa population municipale."
      ],
      "id": "28115d9c-7ddf-4326-8621-a3e160112ff2"
    },
    {
      "cell_type": "code",
      "execution_count": 29,
      "metadata": {},
      "outputs": [],
      "source": [
        "## Entrez ici votre code"
      ],
      "id": "98f57452"
    },
    {
      "cell_type": "code",
      "execution_count": 30,
      "metadata": {},
      "outputs": [],
      "source": [
        "dico_cheflieu = {}\n",
        "resultats = {}\n",
        "\n",
        "# Création du dictionnaire qui associe le code d'un chef-lieu à sa population\n",
        "for d in depts:\n",
        "    code = d['CHEFLIEU']\n",
        "    for c in communes:\n",
        "        if code == c['Code']:\n",
        "            dico_cheflieu[code] = c['Population municipale 2022']\n",
        "\n",
        "# Examen de chacune des communes\n",
        "for c in communes:\n",
        "    code_insee  = c['Code']\n",
        "    population  = c['Population municipale 2022']\n",
        "    departement = 'XX'\n",
        "    \n",
        "    # On récupère le département : \n",
        "    # les trois premiers chiffres du code INSEE en outre-mer,\n",
        "    # les deux premiers chiffres sinon \n",
        "    if code_insee.startswith('97'):\n",
        "        departement = code_insee[:3]\n",
        "    else:\n",
        "        departement = code_insee[:2]\n",
        "    \n",
        "    # Quel est le chef-lieu de ce département ?\n",
        "    chl = '0000'\n",
        "    for d in depts:\n",
        "        if d['DEP'] == departement:\n",
        "            chl = d['CHEFLIEU']\n",
        "    \n",
        "    # On compare la population de la commune à celle du chef-lieu\n",
        "    if population > dico_cheflieu[chl]:\n",
        "        # Si le département n'est pas déjà dans le dictionnaire, on l'ajoute\n",
        "        if departement not in resultats:\n",
        "            resultats[departement] = []\n",
        "        # Et on ajoute la ville à la liste\n",
        "        resultats[departement].append(c['Libellé'])\n",
        "\n",
        "print(\"Départements comptant au moins une ville plus peuplée que le chef-lieu :\")\n",
        "for k, v in sorted(resultats.items()):\n",
        "    print(\"- {} : \".format(k), end='')\n",
        "    print(', '.join(v))\n"
      ],
      "id": "f6f0bdd1"
    },
    {
      "cell_type": "markdown",
      "metadata": {},
      "source": [
        "### Nom commun\n",
        "\n",
        "Quels sont les dix noms de ville le plus répandu ? (ie. ceux que le plus\n",
        "grand nombre de communes portent) ?"
      ],
      "id": "4f876ca2-d3a5-442c-ba80-d2769b2ec746"
    },
    {
      "cell_type": "code",
      "execution_count": 31,
      "metadata": {},
      "outputs": [],
      "source": [
        "# Entrez ici votre code"
      ],
      "id": "a40823ad"
    },
    {
      "cell_type": "code",
      "execution_count": 32,
      "metadata": {},
      "outputs": [],
      "source": [
        "dico_noms = {}\n",
        "\n",
        "for c in communes:\n",
        "    nom = c['Libellé'].upper()\n",
        "    if nom in dico_noms:\n",
        "        dico_noms[nom]+=1\n",
        "    else:\n",
        "        dico_noms[nom]=1\n",
        "\n",
        "top10 = sorted(dico_noms.items(), key=lambda x: x[1], reverse=True)[:10]\n",
        "\n",
        "print('Top 10 des noms les plus répandus : ')\n",
        "for ville, occurence in top10:\n",
        "    print('- {} ({})'.format(ville, occurence))"
      ],
      "id": "ec535f22"
    }
  ],
  "nbformat": 4,
  "nbformat_minor": 5,
  "metadata": {
    "kernelspec": {
      "name": "python3",
      "display_name": "Python 3 (ipykernel)",
      "language": "python",
      "path": "/home/runner/work/ntica-data/ntica-data/.venv/share/jupyter/kernels/python3"
    },
    "language_info": {
      "name": "python",
      "codemirror_mode": {
        "name": "ipython",
        "version": "3"
      },
      "file_extension": ".py",
      "mimetype": "text/x-python",
      "nbconvert_exporter": "python",
      "pygments_lexer": "ipython3",
      "version": "3.12.3"
    }
  }
}